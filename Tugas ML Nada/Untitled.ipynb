{
 "cells": [
  {
   "cell_type": "code",
   "execution_count": 1,
   "metadata": {
    "collapsed": true
   },
   "outputs": [],
   "source": [
    "import numpy as np\n",
    "import pandas as pd"
   ]
  },
  {
   "cell_type": "code",
   "execution_count": 2,
   "metadata": {
    "collapsed": true
   },
   "outputs": [],
   "source": [
    "dtrain = pd.read_csv(\"TrainsetTugas1ML.csv\")\n",
    "dtest = pd.read_csv(\"TestsetTugas1ML.csv\")"
   ]
  },
  {
   "cell_type": "code",
   "execution_count": 3,
   "metadata": {
    "collapsed": false
   },
   "outputs": [],
   "source": [
    "dtotal = len(dtrain)\n",
    "dincome = dtrain[\"income\"]\n",
    "income_upper = 0\n",
    "income_lower = 0\n",
    "for i in range(len(dincome)):\n",
    "    if dincome[i] == \">50K\" :\n",
    "        income_upper += 1\n",
    "    elif dincome[i] == \"<=50K\" :\n",
    "        income_lower += 1"
   ]
  },
  {
   "cell_type": "code",
   "execution_count": 4,
   "metadata": {
    "collapsed": true
   },
   "outputs": [],
   "source": [
    "d_id = dtrain[\"id\"]\n",
    "id_income_upper = 0\n",
    "id_income_lower = 0\n",
    "for i in range(len(dincome)):\n",
    "    if dincome[i] == \">50K\" :\n",
    "        id_income_upper += 1\n",
    "    elif dincome[i] == \"<=50K\" :\n",
    "        id_income_lower += 1"
   ]
  },
  {
   "cell_type": "code",
   "execution_count": 5,
   "metadata": {
    "collapsed": false
   },
   "outputs": [],
   "source": [
    "d_age = dtrain[\"age\"]\n",
    "age_income_upper = 0\n",
    "age_income_lower = 0\n",
    "for i in range(len(dincome)):\n",
    "    if dincome[i] == \">50K\" :\n",
    "        age_income_upper += 1\n",
    "    elif dincome[i] == \"<=50K\" :\n",
    "        age_income_lower += 1"
   ]
  },
  {
   "cell_type": "code",
   "execution_count": 6,
   "metadata": {
    "collapsed": true
   },
   "outputs": [],
   "source": [
    "d_edu = dtrain[\"age\"]\n",
    "edu_income_upper = 0\n",
    "edu_income_lower = 0\n",
    "for i in range(len(dincome)):\n",
    "    if dincome[i] == \">50K\" :\n",
    "        edu_income_upper += 1\n",
    "    elif dincome[i] == \"<=50K\" :\n",
    "        edu_income_lower += 1"
   ]
  },
  {
   "cell_type": "code",
   "execution_count": 7,
   "metadata": {
    "collapsed": false
   },
   "outputs": [],
   "source": [
    "d_wclass = dtrain[\"workclass\"]\n",
    "wclass_income_upper = 0\n",
    "wclass_income_lower = 0\n",
    "for i in range(len(dincome)):\n",
    "    if dincome[i] == \">50K\" :\n",
    "        wclass_income_upper += 1\n",
    "    elif dincome[i] == \"<=50K\" :\n",
    "        wclass_income_lower += 1"
   ]
  },
  {
   "cell_type": "code",
   "execution_count": 8,
   "metadata": {
    "collapsed": true
   },
   "outputs": [],
   "source": [
    "d_status = dtrain[\"marital-status\"]\n",
    "status_income_upper = 0\n",
    "status_income_lower = 0\n",
    "for i in range(len(dincome)):\n",
    "    if dincome[i] == \">50K\" :\n",
    "        status_income_upper += 1\n",
    "    elif dincome[i] == \"<=50K\" :\n",
    "        status_income_lower += 1"
   ]
  },
  {
   "cell_type": "code",
   "execution_count": 9,
   "metadata": {
    "collapsed": true
   },
   "outputs": [],
   "source": [
    "d_occupation = dtrain[\"occupation\"]\n",
    "occupation_income_upper = 0\n",
    "occupation_income_lower = 0\n",
    "for i in range(len(dincome)):\n",
    "    if dincome[i] == \">50K\" :\n",
    "        occupation_income_upper += 1\n",
    "    elif dincome[i] == \"<=50K\" :\n",
    "        occupation_income_lower += 1"
   ]
  },
  {
   "cell_type": "code",
   "execution_count": 10,
   "metadata": {
    "collapsed": true
   },
   "outputs": [],
   "source": [
    "d_relationship = dtrain[\"relationship\"]\n",
    "relationship_income_upper = 0\n",
    "relationship_income_lower = 0\n",
    "for i in range(len(dincome)):\n",
    "    if dincome[i] == \">50K\" :\n",
    "        relationship_income_upper += 1\n",
    "    elif dincome[i] == \"<=50K\" :\n",
    "        relationship_income_lower += 1"
   ]
  },
  {
   "cell_type": "code",
   "execution_count": 11,
   "metadata": {
    "collapsed": true
   },
   "outputs": [],
   "source": [
    "d_hpw = dtrain[\"hours-per-week\"]\n",
    "hpw_income_upper = 0\n",
    "hpw_income_lower = 0\n",
    "for i in range(len(dincome)):\n",
    "    if dincome[i] == \">50K\" :\n",
    "        hpw_income_upper += 1\n",
    "    elif dincome[i] == \"<=50K\" :\n",
    "        hpw_income_lower += 1"
   ]
  },
  {
   "cell_type": "code",
   "execution_count": 12,
   "metadata": {
    "collapsed": true
   },
   "outputs": [],
   "source": [
    "def predict (dtest,dtrain):\n",
    "    #class prior probability\n",
    "    px = income_upper / dtotal\n",
    "    py = income_lower / dtotal\n",
    "    #likelihood\n",
    "    for i in range (len(dincome)):\n",
    "        pxc_id = id_income_upper / income_upper\n",
    "        pyc_id = id_income_lower / income_lower\n",
    "        pxc_age = age_income_upper / income_upper\n",
    "        pyc_age = age_income_lower / income_lower\n",
    "        pxc_wclass = wclass_income_upper / income_upper\n",
    "        pyc_wclass = wclass_income_lower / income_lower\n",
    "        pxc_edu = edu_income_upper / income_upper\n",
    "        pyc_edu = edu_income_lower / income_lower\n",
    "        pxc_status = status_income_upper / income_upper\n",
    "        pyc_status = status_income_lower / income_lower\n",
    "        pxc_occupation = occupation_income_upper / income_upper\n",
    "        pyc_occupation = occupation_income_lower / income_lower\n",
    "        pxc_relationship = relationship_income_upper / income_upper\n",
    "        pyc_relationship = relationship_income_lower / income_lower\n",
    "        pxc_hpw = hpw_income_upper / income_upper\n",
    "        pyc_hpw = hpw_income_lower / income_lower\n",
    "        #total upper dan lower\n",
    "        px_total_upper = pxc_id*pxc_age*pxc_wclass*pxc_edu*pxc_status*pxc_occupation*pxc_relationship*pxc_hpw\n",
    "        py_total_lower = pyc_id*pyc_age*pyc_wclass*pyc_edu*pyc_status*pyc_occupation*pyc_relationship*pyc_hpw\n",
    "    #posterior \n",
    "    p_upper = px_total_upper*px\n",
    "    p_lower = py_total_lower*py"
   ]
  },
  {
   "cell_type": "code",
   "execution_count": 13,
   "metadata": {
    "collapsed": false
   },
   "outputs": [
    {
     "ename": "SyntaxError",
     "evalue": "'return' outside function (<ipython-input-13-399102509cab>, line 3)",
     "output_type": "error",
     "traceback": [
      "\u001b[0;36m  File \u001b[0;32m\"<ipython-input-13-399102509cab>\"\u001b[0;36m, line \u001b[0;32m3\u001b[0m\n\u001b[0;31m    return (\"\")\u001b[0m\n\u001b[0m    ^\u001b[0m\n\u001b[0;31mSyntaxError\u001b[0m\u001b[0;31m:\u001b[0m 'return' outside function\n"
     ]
    }
   ],
   "source": [
    "#prediction\n",
    "if p_upper > p_lower :\n",
    "    return (\"\")"
   ]
  },
  {
   "cell_type": "code",
   "execution_count": null,
   "metadata": {
    "collapsed": true
   },
   "outputs": [],
   "source": []
  },
  {
   "cell_type": "code",
   "execution_count": null,
   "metadata": {
    "collapsed": true
   },
   "outputs": [],
   "source": []
  }
 ],
 "metadata": {
  "kernelspec": {
   "display_name": "Python 3",
   "language": "python",
   "name": "python3"
  },
  "language_info": {
   "codemirror_mode": {
    "name": "ipython",
    "version": 3
   },
   "file_extension": ".py",
   "mimetype": "text/x-python",
   "name": "python",
   "nbconvert_exporter": "python",
   "pygments_lexer": "ipython3",
   "version": "3.6.0"
  }
 },
 "nbformat": 4,
 "nbformat_minor": 2
}
